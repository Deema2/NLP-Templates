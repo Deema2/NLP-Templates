{
 "cells": [
  {
   "cell_type": "markdown",
   "metadata": {},
   "source": [
    "## Import Required Libraries"
   ]
  },
  {
   "cell_type": "code",
   "execution_count": null,
   "metadata": {},
   "outputs": [],
   "source": [
    "# General libraries:\n",
    "import pandas as pd\n",
    "import numpy as np\n",
    "import re\n",
    "pd.set_option('display.max_columns', None)\n",
    "pd.set_option('display.max_rows', 2700)\n",
    "# scikit-learn libraries:\n",
    "from sklearn.preprocessing import LabelEncoder\n",
    "from sklearn.model_selection import train_test_split\n",
    "from sklearn.feature_extraction.text import CountVectorizer\n",
    "from sklearn.linear_model import SGDClassifier\n",
    "from sklearn.pipeline import Pipeline\n",
    "from sklearn.feature_extraction.text import TfidfTransformer\n",
    "# NLP libraries:\n",
    "import nltk\n",
    "from nltk.stem import WordNetLemmatizer\n",
    "from nltk.tokenize import word_tokenize, sent_tokenize, RegexpTokenizer\n",
    "from nltk.tag import pos_tag\n",
    "from nltk.corpus import wordnet as wn\n",
    "from nltk.corpus import stopwords\n",
    "from nltk.stem.porter import *"
   ]
  },
  {
   "cell_type": "markdown",
   "metadata": {},
   "source": [
    "## Constants"
   ]
  },
  {
   "cell_type": "code",
   "execution_count": null,
   "metadata": {},
   "outputs": [],
   "source": [
    "# General:\n",
    "PATH = '/'\n",
    "MODEL_LANG_AR = \"arabic\"\n",
    "MODEL_LANG_EN = \"english\"\n",
    "\n",
    "# Model related:\n",
    "SPLIT_PERC = 0.25\n",
    "SPLIT_RANDOM_STATE = 7\n",
    "LOSS = 'hinge'\n",
    "PENALTY = 'l2' | 'l1' | 'elasticnet'\n",
    "ALPHA = 1e-3\n",
    "MODEL_RANDOM_STATE = 7\n",
    "MAX_ITER = 20"
   ]
  },
  {
   "cell_type": "markdown",
   "metadata": {},
   "source": [
    "## Read Data"
   ]
  },
  {
   "cell_type": "code",
   "execution_count": null,
   "metadata": {},
   "outputs": [],
   "source": [
    "data = pd.read_csv(PATH)"
   ]
  },
  {
   "cell_type": "markdown",
   "metadata": {},
   "source": [
    "## Preprocess Data"
   ]
  },
  {
   "cell_type": "code",
   "execution_count": null,
   "metadata": {},
   "outputs": [],
   "source": [
    "\"\"\"\n",
    "Label languages:\n",
    "\"\"\"\n",
    "def isEnglish(s):\n",
    "    s = str(s)\n",
    "    try:\n",
    "        s.encode(encoding='utf-8').decode('ascii')\n",
    "    except UnicodeDecodeError:\n",
    "        return \"ar\"\n",
    "    else:\n",
    "        return \"en\"\n",
    "\"\"\"\n",
    "Remove punctuations:\n",
    "\"\"\"\n",
    "puncts = [',', '.', '\"', ':', ')', '(', '-', '!', '?', '|', ';', \"'\", '$', '&', '/', '[', ']', '%', '=', '#', '*', '+', '\\\\', '•',  '~', '@', '£',\n",
    " '·', '_', '{', '}', '©', '^', '®', '`',  '<', '→', '°', '€', '™', '›',  '♥', '←', '×', '§', '″', '′', 'Â', '█', '½', 'à', '…',\n",
    " '“', '★', '”', '–', '●', 'â', '►', '−', '¢', '²', '¬', '░', '¶', '↑', '±', '¿', '▾', '═', '¦', '║', '―', '¥', '▓', '—', '‹', '─',\n",
    " '▒', '：', '¼', '⊕', '▼', '▪', '†', '■', '’', '▀', '¨', '▄', '♫', '☆', 'é', '¯', '♦', '¤', '▲', 'è', '¸', '¾', 'Ã', '⋅', '‘', '∞',\n",
    " '∙', '）', '↓', '、', '│', '（', '»', '，', '♪', '╩', '╚', '³', '・', '╦', '╣', '╔', '╗', '▬', '❤', 'ï', 'Ø', '¹', '≤', '‡', '√', ]\n",
    "\n",
    "def clean_text(x):\n",
    "    x = str(x)\n",
    "    for punct in puncts:\n",
    "        if punct in x:\n",
    "            x = x.replace(punct, f'')\n",
    "    return x   \n",
    "    \n",
    "\"\"\"\n",
    "Cleanse text (NLP): \n",
    "Note: Model language can be changed according to the language of your model :)\n",
    "\"\"\"\n",
    "WNL = WordNetLemmatizer()\n",
    "def clean_sentence(sentence, MODEL_LANG_EN):\n",
    "    sentence = str(sentence)\n",
    "    nltk.download(\"stopwords\", quiet=True) \n",
    "    stemmer = PorterStemmer()\n",
    "    sentence.lower() # Convert to lower case\n",
    "    words = [word.lower() for word in word_tokenize(sentence)]\n",
    "    words = [WNL.lemmatize(word) for word in words] # lemmatized_words\n",
    "    words = [w for w in words if w not in stopwords.words(MODEL_LANG_EN)] # Remove stopwords \n",
    "    words = [w for w in words if \"@\" not in w]    \n",
    "    sent = ' '.join(str(x) for x in words) \n",
    "    return sent    \n",
    "\n",
    "\n",
    "data['lang'] = data['column_name'].apply(lambda x: isEnglish(x))\n",
    "data['Name'] = data['Name'].apply(lambda x: clean_text(x))\n",
    "data['column_name'] = data['column_name'].apply(lambda x: clean_sentence(x, MODEL_LANG_EN))"
   ]
  },
  {
   "cell_type": "markdown",
   "metadata": {},
   "source": [
    "## Build Models"
   ]
  },
  {
   "cell_type": "code",
   "execution_count": null,
   "metadata": {},
   "outputs": [],
   "source": [
    "\"\"\"\n",
    "Encode data labels:\n",
    "\"\"\"\n",
    "le = LabelEncoder()\n",
    "data['label'] = le.fit_transform(data['label'])\n",
    "y = data['label'].values\n",
    "X = data['column_name']\n",
    "X_train, X_test, y_train, y_test = train_test_split(X, y, test_size= SPLIT_PERC, random_state= SPLIT_RANDOM_STATE)\n",
    "\n",
    "\"\"\"\n",
    "Build & train model\n",
    "Note: you can use any model other than SGDClassifier\n",
    "\"\"\"\n",
    "sgd = Pipeline([('vect', CountVectorizer()),\n",
    "                ('tfidf', TfidfTransformer()),\n",
    "                ('clf', SGDClassifier(loss=LOSS, penalty= PENALTY,alpha= ALPHA, random_state= MODEL_RANDOM_STATE, max_iter= MAX_ITER, tol=None)),\n",
    "               ])\n",
    "sgd.fit(X_train, y_train)\n",
    "\n",
    "\n",
    "y_pred = sgd.predict(X_test) \n",
    "score = sgd.score(X_test, y_test) * 100\n",
    "print('accuracy %s',score)\n"
   ]
  }
 ],
 "metadata": {
  "kernelspec": {
   "display_name": "Python 3",
   "language": "python",
   "name": "python3"
  },
  "language_info": {
   "codemirror_mode": {
    "name": "ipython",
    "version": 3
   },
   "file_extension": ".py",
   "mimetype": "text/x-python",
   "name": "python",
   "nbconvert_exporter": "python",
   "pygments_lexer": "ipython3",
   "version": "3.8.5"
  }
 },
 "nbformat": 4,
 "nbformat_minor": 4
}
